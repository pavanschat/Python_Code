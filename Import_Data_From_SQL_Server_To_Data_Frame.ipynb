{
 "cells": [
  {
   "cell_type": "markdown",
   "metadata": {},
   "source": [
    "# Importing data from SQL Server to data frame... "
   ]
  },
  {
   "cell_type": "code",
   "execution_count": 3,
   "metadata": {},
   "outputs": [],
   "source": [
    "# Importing Lib..\n",
    "\n",
    "import pandas as pd\n",
    "import numpy as np\n",
    "\n",
    "import pyodbc\n",
    "\n",
    "from datetime import datetime\n",
    "import time"
   ]
  },
  {
   "cell_type": "code",
   "execution_count": 4,
   "metadata": {},
   "outputs": [],
   "source": [
    "# Making the connection..\n",
    "\n",
    "sql_conn = pyodbc.connect(\"Driver={SQL Server Native Client 11.0};\" \n",
    "                     \"Server=DERUSVMUMUISQ03.eyua.net\\INST1;\" \n",
    "                     \"Database=UiPath;\" \n",
    "                     \"Trusted_Connection=yes;\")"
   ]
  },
  {
   "cell_type": "code",
   "execution_count": 6,
   "metadata": {},
   "outputs": [
    {
     "data": {
      "text/html": [
       "<div>\n",
       "<style scoped>\n",
       "    .dataframe tbody tr th:only-of-type {\n",
       "        vertical-align: middle;\n",
       "    }\n",
       "\n",
       "    .dataframe tbody tr th {\n",
       "        vertical-align: top;\n",
       "    }\n",
       "\n",
       "    .dataframe thead th {\n",
       "        text-align: right;\n",
       "    }\n",
       "</style>\n",
       "<table border=\"1\" class=\"dataframe\">\n",
       "  <thead>\n",
       "    <tr style=\"text-align: right;\">\n",
       "      <th></th>\n",
       "      <th>StartTime</th>\n",
       "      <th>EndTime</th>\n",
       "      <th>RobotId</th>\n",
       "    </tr>\n",
       "  </thead>\n",
       "  <tbody>\n",
       "    <tr>\n",
       "      <th>0</th>\n",
       "      <td>2019-04-05 14:29:20.210</td>\n",
       "      <td>2019-04-05 14:30:33.730</td>\n",
       "      <td>1</td>\n",
       "    </tr>\n",
       "    <tr>\n",
       "      <th>1</th>\n",
       "      <td>2019-04-05 14:33:58.853</td>\n",
       "      <td>2019-04-05 14:34:49.673</td>\n",
       "      <td>1</td>\n",
       "    </tr>\n",
       "    <tr>\n",
       "      <th>2</th>\n",
       "      <td>2019-04-09 22:19:10.027</td>\n",
       "      <td>2019-04-09 22:22:31.777</td>\n",
       "      <td>1</td>\n",
       "    </tr>\n",
       "    <tr>\n",
       "      <th>3</th>\n",
       "      <td>2019-04-10 14:18:36.383</td>\n",
       "      <td>2019-04-10 14:20:39.760</td>\n",
       "      <td>19</td>\n",
       "    </tr>\n",
       "    <tr>\n",
       "      <th>4</th>\n",
       "      <td>2019-04-10 14:31:36.580</td>\n",
       "      <td>2019-04-10 14:57:40.010</td>\n",
       "      <td>19</td>\n",
       "    </tr>\n",
       "    <tr>\n",
       "      <th>5</th>\n",
       "      <td>2019-04-10 15:05:37.927</td>\n",
       "      <td>2019-04-10 15:41:18.917</td>\n",
       "      <td>19</td>\n",
       "    </tr>\n",
       "    <tr>\n",
       "      <th>6</th>\n",
       "      <td>2019-04-10 16:05:18.040</td>\n",
       "      <td>2019-04-10 16:22:39.677</td>\n",
       "      <td>19</td>\n",
       "    </tr>\n",
       "    <tr>\n",
       "      <th>7</th>\n",
       "      <td>2019-04-10 17:19:36.597</td>\n",
       "      <td>2019-04-10 17:30:23.363</td>\n",
       "      <td>19</td>\n",
       "    </tr>\n",
       "    <tr>\n",
       "      <th>8</th>\n",
       "      <td>2019-04-10 17:36:25.797</td>\n",
       "      <td>2019-04-10 17:44:33.270</td>\n",
       "      <td>19</td>\n",
       "    </tr>\n",
       "    <tr>\n",
       "      <th>9</th>\n",
       "      <td>2019-04-10 17:46:36.673</td>\n",
       "      <td>2019-04-10 17:47:32.997</td>\n",
       "      <td>2</td>\n",
       "    </tr>\n",
       "  </tbody>\n",
       "</table>\n",
       "</div>"
      ],
      "text/plain": [
       "                StartTime                 EndTime  RobotId\n",
       "0 2019-04-05 14:29:20.210 2019-04-05 14:30:33.730        1\n",
       "1 2019-04-05 14:33:58.853 2019-04-05 14:34:49.673        1\n",
       "2 2019-04-09 22:19:10.027 2019-04-09 22:22:31.777        1\n",
       "3 2019-04-10 14:18:36.383 2019-04-10 14:20:39.760       19\n",
       "4 2019-04-10 14:31:36.580 2019-04-10 14:57:40.010       19\n",
       "5 2019-04-10 15:05:37.927 2019-04-10 15:41:18.917       19\n",
       "6 2019-04-10 16:05:18.040 2019-04-10 16:22:39.677       19\n",
       "7 2019-04-10 17:19:36.597 2019-04-10 17:30:23.363       19\n",
       "8 2019-04-10 17:36:25.797 2019-04-10 17:44:33.270       19\n",
       "9 2019-04-10 17:46:36.673 2019-04-10 17:47:32.997        2"
      ]
     },
     "execution_count": 6,
     "metadata": {},
     "output_type": "execute_result"
    }
   ],
   "source": [
    "# Query to execute & creating a dataframe..\n",
    "\n",
    "query = \"Select * from UiPath.dbo.Jobs\"\n",
    "df_Job = pd.read_sql(query, sql_conn)\n",
    "\n",
    "df_filter = df_Job[['StartTime','EndTime','RobotId']]\n",
    "df_filter.head(10)"
   ]
  },
  {
   "cell_type": "code",
   "execution_count": null,
   "metadata": {},
   "outputs": [],
   "source": []
  }
 ],
 "metadata": {
  "kernelspec": {
   "display_name": "Python 3",
   "language": "python",
   "name": "python3"
  },
  "language_info": {
   "codemirror_mode": {
    "name": "ipython",
    "version": 3
   },
   "file_extension": ".py",
   "mimetype": "text/x-python",
   "name": "python",
   "nbconvert_exporter": "python",
   "pygments_lexer": "ipython3",
   "version": "3.7.3"
  }
 },
 "nbformat": 4,
 "nbformat_minor": 2
}
